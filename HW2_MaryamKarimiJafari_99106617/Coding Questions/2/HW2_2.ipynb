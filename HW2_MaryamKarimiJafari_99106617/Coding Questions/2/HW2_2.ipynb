{
  "cells": [
    {
      "cell_type": "markdown",
      "source": [
        "# Question 2"
      ],
      "metadata": {
        "id": "9AEX8sRdrqnK"
      }
    },
    {
      "cell_type": "code",
      "execution_count": 1,
      "metadata": {
        "colab": {
          "base_uri": "https://localhost:8080/"
        },
        "id": "8BRnvrRj8l5b",
        "outputId": "256924c0-4666-4362-d564-acc66a275b85"
      },
      "outputs": [
        {
          "output_type": "stream",
          "name": "stdout",
          "text": [
            "Mounted at /content/drive\n"
          ]
        }
      ],
      "source": [
        "from google.colab import drive\n",
        "drive.mount('/content/drive')"
      ]
    },
    {
      "cell_type": "code",
      "execution_count": 2,
      "metadata": {
        "id": "nRHG9gzl74Tc"
      },
      "outputs": [],
      "source": [
        "dataset_train_path = '/content/drive/MyDrive/data/train'\n",
        "dataset_test_path = '/content/drive/MyDrive/data/test'"
      ]
    },
    {
      "cell_type": "code",
      "execution_count": 3,
      "metadata": {
        "id": "L3IlxziV8nj8"
      },
      "outputs": [],
      "source": [
        "import keras\n",
        "from keras.models import Sequential\n",
        "from keras.layers import Dense, Dropout, Flatten, SpatialDropout2D\n",
        "import numpy as np\n",
        "from matplotlib import pyplot as plt\n",
        "from keras.models import load_model\n",
        "import tensorflow as tf\n",
        "from keras import regularizers\n",
        "from keras.layers import Conv2D, MaxPooling2D, AveragePooling2D, BatchNormalization\n",
        "from keras import backend as K\n",
        "import cv2"
      ]
    },
    {
      "cell_type": "markdown",
      "source": [
        "I uploaded the data on my google drive and used tf.keras.preprocessing.image.ImageDataGenerator to load train, test and validation based on the name of the folders. I also load them in grayscale and normalized them."
      ],
      "metadata": {
        "id": "LfyKwHWksspK"
      }
    },
    {
      "cell_type": "code",
      "execution_count": 4,
      "metadata": {
        "id": "S_uC9U5D8LZV",
        "colab": {
          "base_uri": "https://localhost:8080/"
        },
        "outputId": "2272e5f6-6ed6-40a7-a179-7e703d9d1dfc"
      },
      "outputs": [
        {
          "output_type": "stream",
          "name": "stdout",
          "text": [
            "Found 22968 images belonging to 7 classes.\n",
            "Found 5741 images belonging to 7 classes.\n",
            "Found 7178 images belonging to 7 classes.\n"
          ]
        }
      ],
      "source": [
        "image_size = (48, 48)\n",
        "num_classes = 7\n",
        "batch_size = 128\n",
        "# extracting the pictures, preprocessing them and splitting them into train, validation and test groups.\n",
        "train_datagen = tf.keras.preprocessing.image.ImageDataGenerator(rescale = 1./255, validation_split = 0.2)\n",
        "test_datagen = tf.keras.preprocessing.image.ImageDataGenerator(rescale = 1./255)\n",
        "# training\n",
        "train_batches = train_datagen.flow_from_directory(\n",
        "    dataset_train_path,\n",
        "    target_size = image_size,\n",
        "    color_mode='grayscale',\n",
        "    batch_size = batch_size,\n",
        "    class_mode = 'categorical',\n",
        "    subset = 'training'\n",
        ")\n",
        "# validation\n",
        "validation_batches = train_datagen.flow_from_directory(\n",
        "    dataset_train_path,\n",
        "    target_size = image_size,\n",
        "    color_mode='grayscale',\n",
        "    batch_size = batch_size,\n",
        "    class_mode = 'categorical',\n",
        "    subset = 'validation'\n",
        ")\n",
        "# test\n",
        "test_batches = test_datagen.flow_from_directory(\n",
        "    dataset_test_path,\n",
        "    target_size = image_size,\n",
        "    color_mode='grayscale',\n",
        "    batch_size = batch_size,\n",
        "    class_mode = 'categorical'\n",
        ")"
      ]
    },
    {
      "cell_type": "markdown",
      "source": [
        "in this part I extracting that which integer number and which one hot coding display each labels."
      ],
      "metadata": {
        "id": "YwKbglj3tHrs"
      }
    },
    {
      "cell_type": "code",
      "execution_count": null,
      "metadata": {
        "colab": {
          "base_uri": "https://localhost:8080/"
        },
        "id": "wcjPcmEyLd03",
        "outputId": "7bb71203-61ed-4c23-cbca-ac2e6efc7062"
      },
      "outputs": [
        {
          "output_type": "stream",
          "name": "stdout",
          "text": [
            "Unique Label: 0, Class Name: angry, One-Hot Label: [1. 0. 0. 0. 0. 0. 0.]\n",
            "Unique Label: 1, Class Name: disgust, One-Hot Label: [0. 1. 0. 0. 0. 0. 0.]\n",
            "Unique Label: 2, Class Name: fear, One-Hot Label: [0. 0. 1. 0. 0. 0. 0.]\n",
            "Unique Label: 3, Class Name: happy, One-Hot Label: [0. 0. 0. 1. 0. 0. 0.]\n",
            "Unique Label: 4, Class Name: neutral, One-Hot Label: [0. 0. 0. 0. 1. 0. 0.]\n",
            "Unique Label: 5, Class Name: sad, One-Hot Label: [0. 0. 0. 0. 0. 1. 0.]\n",
            "Unique Label: 6, Class Name: surprise, One-Hot Label: [0. 0. 0. 0. 0. 0. 1.]\n"
          ]
        }
      ],
      "source": [
        "# Get the class indices\n",
        "class_indices = train_batches.class_indices\n",
        "\n",
        "# Define the labels for the image data\n",
        "y_train = train_batches.classes\n",
        "\n",
        "# Convert the labels to one-hot encoded vectors\n",
        "y_train_encoded = keras.utils.to_categorical(y_train, num_classes=num_classes)\n",
        "\n",
        "# Map indices to class names\n",
        "idx_to_class = {v: k for k, v in class_indices.items()}\n",
        "\n",
        "# Find unique labels\n",
        "unique_labels = np.unique(y_train)\n",
        "\n",
        "# Print unique labels, class names, and one-hot encoded labels\n",
        "for label in unique_labels:\n",
        "    class_name = idx_to_class[label]\n",
        "    one_hot_label = y_train_encoded[np.where(y_train == label)[0][0]]  # Get one-hot label for the first occurrence of the label\n",
        "    print(f\"Unique Label: {label}, Class Name: {class_name}, One-Hot Label: {one_hot_label}\")\n"
      ]
    },
    {
      "cell_type": "markdown",
      "source": [
        "## Training\n",
        "\n",
        "training a model for this dataset took a realy long time. so I used different google accounts for every epoch. I used a callback called checkpoint to save the model after each epoch in google drive. so for the first epoch it is a bit different but for the other epochs I loaded the weights from the model after the last training, and continue training on that model."
      ],
      "metadata": {
        "id": "ZUNgT1UStX28"
      }
    },
    {
      "cell_type": "markdown",
      "source": [
        "### first epoch\n",
        "run just one time."
      ],
      "metadata": {
        "id": "gnCw9j_Mzhcq"
      }
    },
    {
      "cell_type": "code",
      "execution_count": null,
      "metadata": {
        "colab": {
          "base_uri": "https://localhost:8080/"
        },
        "id": "dgWvtkG8LnLj",
        "outputId": "f456b646-7054-4725-8d6a-064f5dff0919"
      },
      "outputs": [
        {
          "metadata": {
            "tags": null
          },
          "name": "stdout",
          "output_type": "stream",
          "text": [
            "Model: \"sequential_4\"\n",
            "_________________________________________________________________\n",
            " Layer (type)                Output Shape              Param #   \n",
            "=================================================================\n",
            " conv2d_20 (Conv2D)          (None, 46, 46, 256)       2560      \n",
            "                                                                 \n",
            " conv2d_21 (Conv2D)          (None, 44, 44, 512)       1180160   \n",
            "                                                                 \n",
            " batch_normalization_16 (Ba  (None, 44, 44, 512)       2048      \n",
            " tchNormalization)                                               \n",
            "                                                                 \n",
            " max_pooling2d_16 (MaxPooli  (None, 22, 22, 512)       0         \n",
            " ng2D)                                                           \n",
            "                                                                 \n",
            " dropout_20 (Dropout)        (None, 22, 22, 512)       0         \n",
            "                                                                 \n",
            " conv2d_22 (Conv2D)          (None, 20, 20, 256)       1179904   \n",
            "                                                                 \n",
            " batch_normalization_17 (Ba  (None, 20, 20, 256)       1024      \n",
            " tchNormalization)                                               \n",
            "                                                                 \n",
            " max_pooling2d_17 (MaxPooli  (None, 10, 10, 256)       0         \n",
            " ng2D)                                                           \n",
            "                                                                 \n",
            " dropout_21 (Dropout)        (None, 10, 10, 256)       0         \n",
            "                                                                 \n",
            " conv2d_23 (Conv2D)          (None, 8, 8, 128)         295040    \n",
            "                                                                 \n",
            " batch_normalization_18 (Ba  (None, 8, 8, 128)         512       \n",
            " tchNormalization)                                               \n",
            "                                                                 \n",
            " max_pooling2d_18 (MaxPooli  (None, 4, 4, 128)         0         \n",
            " ng2D)                                                           \n",
            "                                                                 \n",
            " dropout_22 (Dropout)        (None, 4, 4, 128)         0         \n",
            "                                                                 \n",
            " conv2d_24 (Conv2D)          (None, 2, 2, 256)         295168    \n",
            "                                                                 \n",
            " batch_normalization_19 (Ba  (None, 2, 2, 256)         1024      \n",
            " tchNormalization)                                               \n",
            "                                                                 \n",
            " max_pooling2d_19 (MaxPooli  (None, 1, 1, 256)         0         \n",
            " ng2D)                                                           \n",
            "                                                                 \n",
            " dropout_23 (Dropout)        (None, 1, 1, 256)         0         \n",
            "                                                                 \n",
            " flatten_4 (Flatten)         (None, 256)               0         \n",
            "                                                                 \n",
            " dense_8 (Dense)             (None, 256)               65792     \n",
            "                                                                 \n",
            " dropout_24 (Dropout)        (None, 256)               0         \n",
            "                                                                 \n",
            " dense_9 (Dense)             (None, 7)                 1799      \n",
            "                                                                 \n",
            "=================================================================\n",
            "Total params: 3025031 (11.54 MB)\n",
            "Trainable params: 3022727 (11.53 MB)\n",
            "Non-trainable params: 2304 (9.00 KB)\n",
            "_________________________________________________________________\n",
            "180/180 [==============================] - ETA: 0s - loss: 1.8197 - accuracy: 0.2884 - recall: 0.0700 - precision: 0.4390 "
          ]
        },
        {
          "output_type": "stream",
          "name": "stderr",
          "text": [
            "/usr/local/lib/python3.10/dist-packages/keras/src/engine/training.py:3103: UserWarning: You are saving your model as an HDF5 file via `model.save()`. This file format is considered legacy. We recommend using instead the native Keras format, e.g. `model.save('my_model.keras')`.\n",
            "  saving_api.save_model(\n"
          ]
        },
        {
          "output_type": "stream",
          "name": "stdout",
          "text": [
            "\b\b\b\b\b\b\b\b\b\b\b\b\b\b\b\b\b\b\b\b\b\b\b\b\b\b\b\b\b\b\b\b\b\b\b\b\b\b\b\b\b\b\b\b\b\b\b\b\b\b\b\b\b\b\b\b\b\b\b\b\b\b\b\b\b\b\b\b\b\b\b\b\b\b\b\b\b\b\b\b\b\b\b\b\b\b\b\b\b\b\b\b\b\b\b\b\b\b\b\b\b\b\b\b\b\b\b\b\b\b\b\b\b\b\b\b\b\b\b\b\b\r180/180 [==============================] - 9781s 54s/step - loss: 1.8197 - accuracy: 0.2884 - recall: 0.0700 - precision: 0.4390 - val_loss: 1.8654 - val_accuracy: 0.2871 - val_recall: 0.0329 - val_precision: 0.5309\n"
          ]
        }
      ],
      "source": [
        "model = keras.Sequential()\n",
        "\n",
        "model.add(Conv2D(256, kernel_size=(3, 3), activation='relu', input_shape=(48, 48, 1)))\n",
        "model.add(Conv2D(512, (3, 3), activation='relu'))\n",
        "model.add(BatchNormalization())\n",
        "model.add(MaxPooling2D(pool_size=(2, 2)))\n",
        "model.add(Dropout(0.1))\n",
        "\n",
        "model.add(Conv2D(256, (3, 3), activation='relu'))\n",
        "model.add(BatchNormalization())\n",
        "model.add(MaxPooling2D(pool_size=(2, 2)))\n",
        "model.add(Dropout(0.1))\n",
        "\n",
        "model.add(Conv2D(128, (3, 3), activation='relu'))\n",
        "model.add(BatchNormalization())\n",
        "model.add(MaxPooling2D(pool_size=(2, 2)))\n",
        "model.add(Dropout(0.1))\n",
        "\n",
        "model.add(Conv2D(256, (3, 3), activation='relu'))\n",
        "model.add(BatchNormalization())\n",
        "model.add(MaxPooling2D(pool_size=(2, 2)))\n",
        "model.add(Dropout(0.1))\n",
        "\n",
        "model.add(Flatten())\n",
        "model.add(Dense(256, activation='relu'))\n",
        "model.add(Dropout(0.2))\n",
        "model.add(Dense(num_classes, activation='softmax'))\n",
        "\n",
        "model.summary()\n",
        "\n",
        "checkpoint_filepath = '/content/drive/MyDrive/checkpoints/model_checkpoint.h5'\n",
        "model_checkpoint_callback = keras.callbacks.ModelCheckpoint(\n",
        "    filepath=checkpoint_filepath,\n",
        "    monitor='val_acc',\n",
        "    mode='max',\n",
        "    save_freq=\"epoch\"\n",
        ")\n",
        "\n",
        "model.compile(loss=keras.losses.categorical_crossentropy,\n",
        "              optimizer=tf.keras.optimizers.Adam(learning_rate=0.001),\n",
        "              metrics=['accuracy','Recall','Precision'])\n",
        "\n",
        "history = model.fit(train_batches,\n",
        "          batch_size=batch_size,\n",
        "          epochs=1,\n",
        "          verbose=1,\n",
        "          validation_data=validation_batches,\n",
        "          callbacks=[model_checkpoint_callback])"
      ]
    },
    {
      "cell_type": "markdown",
      "source": [
        "### next epochs\n",
        "\n",
        "run multiple times."
      ],
      "metadata": {
        "id": "Q16kz4jrzmer"
      }
    },
    {
      "cell_type": "code",
      "source": [
        "model = keras.Sequential()\n",
        "\n",
        "model.add(Conv2D(256, kernel_size=(3, 3), activation='relu', input_shape=(48, 48, 1)))\n",
        "model.add(Conv2D(512, (3, 3), activation='relu'))\n",
        "model.add(BatchNormalization())\n",
        "model.add(MaxPooling2D(pool_size=(2, 2)))\n",
        "model.add(Dropout(0.1))\n",
        "\n",
        "model.add(Conv2D(256, (3, 3), activation='relu'))\n",
        "model.add(BatchNormalization())\n",
        "model.add(MaxPooling2D(pool_size=(2, 2)))\n",
        "model.add(Dropout(0.1))\n",
        "\n",
        "model.add(Conv2D(128, (3, 3), activation='relu'))\n",
        "model.add(BatchNormalization())\n",
        "model.add(MaxPooling2D(pool_size=(2, 2)))\n",
        "model.add(Dropout(0.1))\n",
        "\n",
        "model.add(Conv2D(256, (3, 3), activation='relu'))\n",
        "model.add(BatchNormalization())\n",
        "model.add(MaxPooling2D(pool_size=(2, 2)))\n",
        "model.add(Dropout(0.1))\n",
        "\n",
        "model.add(Flatten())\n",
        "model.add(Dense(256, activation='relu'))\n",
        "model.add(Dropout(0.2))\n",
        "model.add(Dense(num_classes, activation='softmax'))\n",
        "\n",
        "model.summary()\n",
        "\n",
        "checkpoint_filepath = '/content/drive/MyDrive/checkpoints/model_checkpoint.h5'\n",
        "model_checkpoint_callback = keras.callbacks.ModelCheckpoint(\n",
        "    filepath=checkpoint_filepath,\n",
        "    monitor='val_loss',\n",
        "    mode='min',\n",
        "    save_freq=\"epoch\"\n",
        ")\n",
        "\n",
        "model.load_weights(checkpoint_filepath)\n",
        "\n",
        "model.compile(loss=keras.losses.categorical_crossentropy,\n",
        "              optimizer=tf.keras.optimizers.Adam(learning_rate=0.001),\n",
        "              metrics=['accuracy','Recall','Precision'])\n",
        "\n",
        "history = model.fit(train_batches,\n",
        "          batch_size=batch_size,\n",
        "          epochs=1,\n",
        "          verbose=1,\n",
        "          validation_data=validation_batches,\n",
        "          callbacks=[model_checkpoint_callback])"
      ],
      "metadata": {
        "id": "Alf5nh_YzkEg",
        "colab": {
          "base_uri": "https://localhost:8080/"
        },
        "outputId": "483245e5-ed15-43c8-ab02-7bd73df4b72c"
      },
      "execution_count": null,
      "outputs": [
        {
          "metadata": {
            "tags": null
          },
          "name": "stdout",
          "output_type": "stream",
          "text": [
            "Model: \"sequential\"\n",
            "_________________________________________________________________\n",
            " Layer (type)                Output Shape              Param #   \n",
            "=================================================================\n",
            " conv2d (Conv2D)             (None, 46, 46, 256)       2560      \n",
            "                                                                 \n",
            " conv2d_1 (Conv2D)           (None, 44, 44, 512)       1180160   \n",
            "                                                                 \n",
            " batch_normalization (Batch  (None, 44, 44, 512)       2048      \n",
            " Normalization)                                                  \n",
            "                                                                 \n",
            " max_pooling2d (MaxPooling2  (None, 22, 22, 512)       0         \n",
            " D)                                                              \n",
            "                                                                 \n",
            " dropout (Dropout)           (None, 22, 22, 512)       0         \n",
            "                                                                 \n",
            " conv2d_2 (Conv2D)           (None, 20, 20, 256)       1179904   \n",
            "                                                                 \n",
            " batch_normalization_1 (Bat  (None, 20, 20, 256)       1024      \n",
            " chNormalization)                                                \n",
            "                                                                 \n",
            " max_pooling2d_1 (MaxPoolin  (None, 10, 10, 256)       0         \n",
            " g2D)                                                            \n",
            "                                                                 \n",
            " dropout_1 (Dropout)         (None, 10, 10, 256)       0         \n",
            "                                                                 \n",
            " conv2d_3 (Conv2D)           (None, 8, 8, 128)         295040    \n",
            "                                                                 \n",
            " batch_normalization_2 (Bat  (None, 8, 8, 128)         512       \n",
            " chNormalization)                                                \n",
            "                                                                 \n",
            " max_pooling2d_2 (MaxPoolin  (None, 4, 4, 128)         0         \n",
            " g2D)                                                            \n",
            "                                                                 \n",
            " dropout_2 (Dropout)         (None, 4, 4, 128)         0         \n",
            "                                                                 \n",
            " conv2d_4 (Conv2D)           (None, 2, 2, 256)         295168    \n",
            "                                                                 \n",
            " batch_normalization_3 (Bat  (None, 2, 2, 256)         1024      \n",
            " chNormalization)                                                \n",
            "                                                                 \n",
            " max_pooling2d_3 (MaxPoolin  (None, 1, 1, 256)         0         \n",
            " g2D)                                                            \n",
            "                                                                 \n",
            " dropout_3 (Dropout)         (None, 1, 1, 256)         0         \n",
            "                                                                 \n",
            " flatten (Flatten)           (None, 256)               0         \n",
            "                                                                 \n",
            " dense (Dense)               (None, 256)               65792     \n",
            "                                                                 \n",
            " dropout_4 (Dropout)         (None, 256)               0         \n",
            "                                                                 \n",
            " dense_1 (Dense)             (None, 7)                 1799      \n",
            "                                                                 \n",
            "=================================================================\n",
            "Total params: 3025031 (11.54 MB)\n",
            "Trainable params: 3022727 (11.53 MB)\n",
            "Non-trainable params: 2304 (9.00 KB)\n",
            "_________________________________________________________________\n",
            "180/180 [==============================] - ETA: 0s - loss: 1.5079 - accuracy: 0.4116 - recall: 0.1851 - precision: 0.6936 "
          ]
        },
        {
          "output_type": "stream",
          "name": "stderr",
          "text": [
            "/usr/local/lib/python3.10/dist-packages/keras/src/engine/training.py:3103: UserWarning: You are saving your model as an HDF5 file via `model.save()`. This file format is considered legacy. We recommend using instead the native Keras format, e.g. `model.save('my_model.keras')`.\n",
            "  saving_api.save_model(\n"
          ]
        },
        {
          "output_type": "stream",
          "name": "stdout",
          "text": [
            "\b\b\b\b\b\b\b\b\b\b\b\b\b\b\b\b\b\b\b\b\b\b\b\b\b\b\b\b\b\b\b\b\b\b\b\b\b\b\b\b\b\b\b\b\b\b\b\b\b\b\b\b\b\b\b\b\b\b\b\b\b\b\b\b\b\b\b\b\b\b\b\b\b\b\b\b\b\b\b\b\b\b\b\b\b\b\b\b\b\b\b\b\b\b\b\b\b\b\b\b\b\b\b\b\b\b\b\b\b\b\b\b\b\b\b\b\b\b\b\b\b\r180/180 [==============================] - 5850s 32s/step - loss: 1.5079 - accuracy: 0.4116 - recall: 0.1851 - precision: 0.6936 - val_loss: 1.7915 - val_accuracy: 0.2672 - val_recall: 0.0183 - val_precision: 0.8400\n"
          ]
        }
      ]
    },
    {
      "cell_type": "code",
      "execution_count": null,
      "metadata": {
        "id": "UnUaPSaRDmsu"
      },
      "outputs": [],
      "source": [
        "score = model.evaluate(test_batches, verbose=0)\n",
        "print('Test loss:', score[0])\n",
        "print('Test accuracy:', score[1])\n",
        "print('Test recall:', score[3])\n",
        "print('Test precision:', score[4])"
      ]
    },
    {
      "cell_type": "code",
      "execution_count": null,
      "metadata": {
        "id": "2gEoXuYXN_ba"
      },
      "outputs": [],
      "source": [
        "model.save('model_HW2_2_3.h5')"
      ]
    },
    {
      "cell_type": "markdown",
      "source": [
        "### loading my best model\n",
        "\n",
        "\n",
        "> https://drive.google.com/file/d/1AcYM5pBLjMwQ2msvFOjcbfmfBiAUoPTo/view?usp=drive_link\n",
        "\n"
      ],
      "metadata": {
        "id": "VhCDzrnfuhV3"
      }
    },
    {
      "cell_type": "code",
      "source": [
        "from keras.models import load_model\n",
        "model = load_model('/content/drive/MyDrive/HW2_models/model_HW2_2_3.h5')\n",
        "model.summary()"
      ],
      "metadata": {
        "colab": {
          "base_uri": "https://localhost:8080/"
        },
        "id": "isxa2jcL1JwA",
        "outputId": "f6486796-1d42-42f1-9ba2-6bf5bd9a57bd"
      },
      "execution_count": 5,
      "outputs": [
        {
          "output_type": "stream",
          "name": "stdout",
          "text": [
            "Model: \"sequential\"\n",
            "_________________________________________________________________\n",
            " Layer (type)                Output Shape              Param #   \n",
            "=================================================================\n",
            " conv2d (Conv2D)             (None, 46, 46, 256)       2560      \n",
            "                                                                 \n",
            " conv2d_1 (Conv2D)           (None, 44, 44, 512)       1180160   \n",
            "                                                                 \n",
            " batch_normalization (Batch  (None, 44, 44, 512)       2048      \n",
            " Normalization)                                                  \n",
            "                                                                 \n",
            " max_pooling2d (MaxPooling2  (None, 22, 22, 512)       0         \n",
            " D)                                                              \n",
            "                                                                 \n",
            " dropout (Dropout)           (None, 22, 22, 512)       0         \n",
            "                                                                 \n",
            " conv2d_2 (Conv2D)           (None, 20, 20, 256)       1179904   \n",
            "                                                                 \n",
            " batch_normalization_1 (Bat  (None, 20, 20, 256)       1024      \n",
            " chNormalization)                                                \n",
            "                                                                 \n",
            " max_pooling2d_1 (MaxPoolin  (None, 10, 10, 256)       0         \n",
            " g2D)                                                            \n",
            "                                                                 \n",
            " dropout_1 (Dropout)         (None, 10, 10, 256)       0         \n",
            "                                                                 \n",
            " conv2d_3 (Conv2D)           (None, 8, 8, 128)         295040    \n",
            "                                                                 \n",
            " batch_normalization_2 (Bat  (None, 8, 8, 128)         512       \n",
            " chNormalization)                                                \n",
            "                                                                 \n",
            " max_pooling2d_2 (MaxPoolin  (None, 4, 4, 128)         0         \n",
            " g2D)                                                            \n",
            "                                                                 \n",
            " dropout_2 (Dropout)         (None, 4, 4, 128)         0         \n",
            "                                                                 \n",
            " conv2d_4 (Conv2D)           (None, 2, 2, 256)         295168    \n",
            "                                                                 \n",
            " batch_normalization_3 (Bat  (None, 2, 2, 256)         1024      \n",
            " chNormalization)                                                \n",
            "                                                                 \n",
            " max_pooling2d_3 (MaxPoolin  (None, 1, 1, 256)         0         \n",
            " g2D)                                                            \n",
            "                                                                 \n",
            " dropout_3 (Dropout)         (None, 1, 1, 256)         0         \n",
            "                                                                 \n",
            " flatten (Flatten)           (None, 256)               0         \n",
            "                                                                 \n",
            " dense (Dense)               (None, 256)               65792     \n",
            "                                                                 \n",
            " dropout_4 (Dropout)         (None, 256)               0         \n",
            "                                                                 \n",
            " dense_1 (Dense)             (None, 7)                 1799      \n",
            "                                                                 \n",
            "=================================================================\n",
            "Total params: 3025031 (11.54 MB)\n",
            "Trainable params: 3022727 (11.53 MB)\n",
            "Non-trainable params: 2304 (9.00 KB)\n",
            "_________________________________________________________________\n"
          ]
        }
      ]
    },
    {
      "cell_type": "markdown",
      "source": [
        "## confusion matrix\n",
        "I used predict module for the inputs for confusion matrix."
      ],
      "metadata": {
        "id": "wzZg89GJupAZ"
      }
    },
    {
      "cell_type": "code",
      "execution_count": null,
      "metadata": {
        "colab": {
          "base_uri": "https://localhost:8080/"
        },
        "outputId": "a043b41a-f6ca-4cef-d029-79ce13dfdcb0",
        "id": "Ao9WDEPr5laF"
      },
      "outputs": [
        {
          "name": "stdout",
          "output_type": "stream",
          "text": [
            "4/4 [==============================] - 1s 46ms/step\n",
            "4/4 [==============================] - 0s 60ms/step\n",
            "4/4 [==============================] - 0s 47ms/step\n",
            "4/4 [==============================] - 0s 48ms/step\n",
            "4/4 [==============================] - 0s 49ms/step\n",
            "4/4 [==============================] - 0s 51ms/step\n",
            "4/4 [==============================] - 0s 46ms/step\n",
            "4/4 [==============================] - 0s 50ms/step\n",
            "4/4 [==============================] - 0s 47ms/step\n",
            "4/4 [==============================] - 0s 50ms/step\n",
            "4/4 [==============================] - 0s 57ms/step\n",
            "4/4 [==============================] - 0s 84ms/step\n",
            "4/4 [==============================] - 0s 79ms/step\n",
            "4/4 [==============================] - 0s 81ms/step\n",
            "4/4 [==============================] - 0s 63ms/step\n",
            "4/4 [==============================] - 0s 47ms/step\n",
            "4/4 [==============================] - 0s 47ms/step\n",
            "4/4 [==============================] - 0s 46ms/step\n",
            "4/4 [==============================] - 0s 53ms/step\n",
            "4/4 [==============================] - 0s 47ms/step\n",
            "4/4 [==============================] - 0s 56ms/step\n",
            "4/4 [==============================] - 0s 48ms/step\n",
            "4/4 [==============================] - 0s 49ms/step\n",
            "4/4 [==============================] - 0s 47ms/step\n",
            "4/4 [==============================] - 0s 50ms/step\n",
            "4/4 [==============================] - 0s 52ms/step\n",
            "4/4 [==============================] - 0s 85ms/step\n",
            "4/4 [==============================] - 0s 79ms/step\n",
            "4/4 [==============================] - 0s 79ms/step\n",
            "4/4 [==============================] - 0s 48ms/step\n",
            "4/4 [==============================] - 0s 53ms/step\n",
            "4/4 [==============================] - 0s 54ms/step\n",
            "4/4 [==============================] - 0s 50ms/step\n",
            "4/4 [==============================] - 0s 46ms/step\n",
            "4/4 [==============================] - 0s 46ms/step\n",
            "4/4 [==============================] - 0s 50ms/step\n",
            "4/4 [==============================] - 0s 57ms/step\n",
            "4/4 [==============================] - 0s 52ms/step\n",
            "4/4 [==============================] - 0s 47ms/step\n",
            "4/4 [==============================] - 0s 46ms/step\n",
            "4/4 [==============================] - 0s 54ms/step\n",
            "4/4 [==============================] - 0s 84ms/step\n",
            "4/4 [==============================] - 0s 83ms/step\n",
            "4/4 [==============================] - 0s 79ms/step\n",
            "4/4 [==============================] - 0s 49ms/step\n",
            "4/4 [==============================] - 0s 48ms/step\n",
            "4/4 [==============================] - 0s 48ms/step\n",
            "4/4 [==============================] - 0s 51ms/step\n",
            "4/4 [==============================] - 0s 47ms/step\n",
            "4/4 [==============================] - 0s 47ms/step\n",
            "4/4 [==============================] - 0s 54ms/step\n",
            "4/4 [==============================] - 0s 48ms/step\n",
            "4/4 [==============================] - 0s 46ms/step\n",
            "4/4 [==============================] - 0s 52ms/step\n",
            "4/4 [==============================] - 0s 50ms/step\n",
            "4/4 [==============================] - 0s 83ms/step\n",
            "1/1 [==============================] - 1s 1s/step\n"
          ]
        }
      ],
      "source": [
        "# Get the true labels and predicted probabilities\n",
        "true_labels = []\n",
        "predicted_probs = []\n",
        "\n",
        "# Iterate over your data generator to get predictions\n",
        "for i in range(len(test_batches)):\n",
        "    batch_x, batch_y = test_batches[i]\n",
        "    true_labels.extend(np.argmax(batch_y, axis=1))  # Assuming one-hot encoding for labels\n",
        "    predicted_probs.extend(model.predict(batch_x))\n",
        "\n",
        "# Convert predicted probabilities to class predictions\n",
        "predicted_labels = np.argmax(predicted_probs, axis=1)"
      ]
    },
    {
      "cell_type": "code",
      "execution_count": null,
      "metadata": {
        "colab": {
          "base_uri": "https://localhost:8080/",
          "height": 449
        },
        "id": "iUgz_SJnQ_8i",
        "outputId": "9e6aaf8d-5841-4fc3-e306-01a229c405ae"
      },
      "outputs": [
        {
          "output_type": "display_data",
          "data": {
            "text/plain": [
              "<Figure size 640x480 with 2 Axes>"
            ],
            "image/png": "[encoded data removed]"
          },
          "metadata": {}
        }
      ],
      "source": [
        "from sklearn.metrics import confusion_matrix\n",
        "from sklearn.metrics import ConfusionMatrixDisplay\n",
        "\n",
        "# Compute confusion matrix\n",
        "conf_matrix = confusion_matrix(true_labels, predicted_labels)\n",
        "disp = ConfusionMatrixDisplay(confusion_matrix=conf_matrix)\n",
        "disp.plot(cmap=plt.cm.Blues)\n",
        "plt.show()\n"
      ]
    },
    {
      "cell_type": "markdown",
      "source": [
        "## visualizing the filters\n",
        "\n",
        "first I pick a picture from the dataset and plotted them. and then choose two filters from a layer ans also plotted them. after that I used the conv for applying the filters and seeing the result. it seems that these filters seperate the entire face."
      ],
      "metadata": {
        "id": "M1O2tsRxvEun"
      }
    },
    {
      "cell_type": "code",
      "source": [
        "# training\n",
        "train_batches = train_datagen.flow_from_directory(\n",
        "    dataset_train_path,\n",
        "    target_size = image_size,\n",
        "    color_mode='rgb',\n",
        "    batch_size = batch_size,\n",
        "    class_mode = 'categorical',\n",
        "    subset = 'training'\n",
        ")"
      ],
      "metadata": {
        "colab": {
          "base_uri": "https://localhost:8080/"
        },
        "id": "259wGj_WyXuL",
        "outputId": "f8ce6e03-03e7-4302-8222-505c10f44993"
      },
      "execution_count": 32,
      "outputs": [
        {
          "output_type": "stream",
          "name": "stdout",
          "text": [
            "Found 22968 images belonging to 7 classes.\n"
          ]
        }
      ]
    },
    {
      "cell_type": "code",
      "execution_count": 33,
      "metadata": {
        "id": "HtZuoNMng3et",
        "colab": {
          "base_uri": "https://localhost:8080/",
          "height": 428
        },
        "outputId": "2c53f1c3-2e8a-4bbc-dc66-9ddf0dfb434b"
      },
      "outputs": [
        {
          "output_type": "display_data",
          "data": {
            "text/plain": [
              "<Figure size 640x480 with 1 Axes>"
            ],
            "image/png": "[encoded data removed]"
          },
          "metadata": {}
        }
      ],
      "source": [
        "# Select one image from the batch\n",
        "image = train_batches[1][0][100]\n",
        "\n",
        "# Plot the selected image\n",
        "plt.imshow(image)\n",
        "plt.title('Sample Image')\n",
        "plt.axis('off')\n",
        "plt.show()"
      ]
    },
    {
      "cell_type": "code",
      "execution_count": 42,
      "metadata": {
        "colab": {
          "base_uri": "https://localhost:8080/",
          "height": 874
        },
        "id": "1H59HqNabNCu",
        "outputId": "90e83b93-217e-4232-f3e0-ee335d81faf4"
      },
      "outputs": [
        {
          "output_type": "stream",
          "name": "stdout",
          "text": [
            "256\n",
            "189\n"
          ]
        },
        {
          "output_type": "display_data",
          "data": {
            "text/plain": [
              "<Figure size 640x480 with 1 Axes>"
            ],
            "image/png": "[encoded data removed]"
          },
          "metadata": {}
        },
        {
          "output_type": "display_data",
          "data": {
            "text/plain": [
              "<Figure size 640x480 with 1 Axes>"
            ],
            "image/png": "[encoded data removed]"
          },
          "metadata": {}
        }
      ],
      "source": [
        "# Specify the index of the convolutional layer you want to visualize\n",
        "layer_index1 = 0  # Change this to the index of the convolutional layer you're interested in\n",
        "\n",
        "# Extract weights from the specified convolutional layer\n",
        "layer1 = model.layers[layer_index1]\n",
        "weights1 = layer1.get_weights()[0]\n",
        "\n",
        "# Get the number of filters in the convolutional layer\n",
        "num_filters1 = weights1.shape[3]\n",
        "print(num_filters1)\n",
        "# Randomly select a filter index\n",
        "random_filter_index1 = np.random.randint(0, num_filters1)\n",
        "\n",
        "# Extract the random filter from the weights tensor\n",
        "random_filter1 = weights1[:, :, :, random_filter_index1-2:random_filter_index1]\n",
        "\n",
        "filter_normalized1 = []\n",
        "for i in range(0, 2):\n",
        "    # Normalize the filter weights to the range [0, 1] for visualization\n",
        "    filter_normalized1.append((random_filter1[:, :, :, i] - np.min(random_filter1[:, :, :, i])) / (np.max(random_filter1[:, :, :, i]) - np.min(random_filter1[:, :, :, i])))\n",
        "    # Plot the random filter as an image\n",
        "    plt.imshow(filter_normalized1[i][:, :, 0], cmap='gray')  # Assuming grayscale filters\n",
        "    plt.title('Random Filter Visualization')\n",
        "    plt.axis('off')\n",
        "    plt.show()\n"
      ]
    },
    {
      "cell_type": "code",
      "source": [
        "print(filter_normalized1[0].shape)"
      ],
      "metadata": {
        "colab": {
          "base_uri": "https://localhost:8080/"
        },
        "id": "CI3VDRVazEM7",
        "outputId": "fbb0f91d-c5c7-4b76-ed3c-f9bbf5dba32f"
      },
      "execution_count": 43,
      "outputs": [
        {
          "output_type": "stream",
          "name": "stdout",
          "text": [
            "(3, 3, 1)\n"
          ]
        }
      ]
    },
    {
      "cell_type": "code",
      "source": [
        "print(image.shape)\n",
        "print(np.expand_dims(image, axis=0).shape)\n",
        "a = np.repeat(image, 3, axis=-1)\n",
        "print(a.shape)\n",
        "print(np.expand_dims(a, axis=0).shape)"
      ],
      "metadata": {
        "colab": {
          "base_uri": "https://localhost:8080/"
        },
        "id": "thN1F30Aw3py",
        "outputId": "b980c77b-eb03-4e29-c4ea-7e302543c1e2"
      },
      "execution_count": 28,
      "outputs": [
        {
          "output_type": "stream",
          "name": "stdout",
          "text": [
            "(48, 48, 1)\n",
            "(1, 48, 48, 1)\n",
            "(48, 48, 3)\n",
            "(1, 48, 48, 3)\n"
          ]
        }
      ]
    },
    {
      "cell_type": "code",
      "execution_count": 44,
      "metadata": {
        "colab": {
          "base_uri": "https://localhost:8080/",
          "height": 840
        },
        "id": "kX0rcqcCd8qF",
        "outputId": "fb3d8b26-5565-4184-a4c1-c496321e8c9d"
      },
      "outputs": [
        {
          "output_type": "stream",
          "name": "stdout",
          "text": [
            "(1, 3, 3, 1)\n",
            "(1, 48, 48, 3)\n"
          ]
        },
        {
          "output_type": "display_data",
          "data": {
            "text/plain": [
              "<Figure size 1000x500 with 2 Axes>"
            ],
            "image/png": "[encoded data removed]"
          },
          "metadata": {}
        },
        {
          "output_type": "display_data",
          "data": {
            "text/plain": [
              "<Figure size 1000x500 with 2 Axes>"
            ],
            "image/png": "[encoded data removed]"
          },
          "metadata": {}
        }
      ],
      "source": [
        "# Load an example image for testing\n",
        "print(np.expand_dims(filter_normalized1[0], axis=0).shape)\n",
        "print(np.expand_dims(image, axis=0).shape)\n",
        "\n",
        "# Perform convolution between the image and the random filter\n",
        "for i in range(0, len(filter_normalized1)):\n",
        "\n",
        "    filtered_image = tf.nn.conv2d(np.expand_dims(image, axis=0), np.expand_dims(filter_normalized1[i], axis=0), strides=[1, 1, 1, 1], padding='SAME')\n",
        "\n",
        "    # Plot the original image and the filtered image\n",
        "    plt.figure(figsize=(10, 5))\n",
        "    plt.subplot(1, 2, 1)\n",
        "    plt.imshow(image)\n",
        "    plt.title('Original Image')\n",
        "    plt.axis('off')\n",
        "\n",
        "    plt.subplot(1, 2, 2)\n",
        "    plt.imshow(np.squeeze(filtered_image), cmap='gray')\n",
        "    plt.title('Filtered Image')\n",
        "    plt.axis('off')\n",
        "\n",
        "    plt.show()"
      ]
    },
    {
      "cell_type": "markdown",
      "source": [
        "## testing\n",
        "\n",
        "my laptop doesn't have camera, I tried to use a cellphone as webcam but it did'nt work. so I tried to load some of my images to see it's prediction."
      ],
      "metadata": {
        "id": "Rv6qLn1lz2m9"
      }
    },
    {
      "cell_type": "code",
      "source": [
        "image1 = keras.utils.load_img('/content/image1.jpg', color_mode=\"grayscale\", target_size=(48, 48))\n",
        "input_arr = keras.utils.img_to_array(image1)\n",
        "plt.imshow(image1)\n",
        "input_arr = np.array([input_arr])  # Convert single image to a batch.\n",
        "predictions = model.predict(input_arr)\n",
        "print(predictions)"
      ],
      "metadata": {
        "id": "MYfPQFQKz3DE",
        "colab": {
          "base_uri": "https://localhost:8080/",
          "height": 483
        },
        "outputId": "359f83b9-5dc7-4a4a-a9ad-c542dab5ce47"
      },
      "execution_count": 52,
      "outputs": [
        {
          "output_type": "stream",
          "name": "stdout",
          "text": [
            "1/1 [==============================] - 0s 30ms/step\n",
            "[[3.1885103e-37 0.0000000e+00 4.6198606e-16 1.0000000e+00 4.8833562e-26\n",
            "  8.5226314e-26 9.1586568e-21]]\n"
          ]
        },
        {
          "output_type": "display_data",
          "data": {
            "text/plain": [
              "<Figure size 640x480 with 1 Axes>"
            ],
            "image/png": "[encoded data removed]"
          },
          "metadata": {}
        }
      ]
    },
    {
      "cell_type": "code",
      "source": [
        "image2= keras.utils.load_img('/content/image2.jpg', color_mode=\"grayscale\", target_size=(48, 48))\n",
        "input_arr = keras.utils.img_to_array(image2)\n",
        "plt.imshow(image2)\n",
        "input_arr = np.array([input_arr])  # Convert single image to a batch.\n",
        "predictions = model.predict(input_arr)\n",
        "print(predictions)"
      ],
      "metadata": {
        "id": "S-ECJmXE0GLp",
        "colab": {
          "base_uri": "https://localhost:8080/",
          "height": 483
        },
        "outputId": "bcdab9dc-c833-4112-eb3e-6a566bf38d10"
      },
      "execution_count": 51,
      "outputs": [
        {
          "output_type": "stream",
          "name": "stdout",
          "text": [
            "1/1 [==============================] - 0s 41ms/step\n",
            "[[2.2723158e-25 0.0000000e+00 5.2623700e-19 1.0000000e+00 6.1238034e-15\n",
            "  6.5483634e-15 6.2737299e-25]]\n"
          ]
        },
        {
          "output_type": "display_data",
          "data": {
            "text/plain": [
              "<Figure size 640x480 with 1 Axes>"
            ],
            "image/png": "[encoded data removed]"
          },
          "metadata": {}
        }
      ]
    }
  ],
  "metadata": {
    "colab": {
      "provenance": [],
      "gpuType": "T4"
    },
    "kernelspec": {
      "display_name": "Python 3",
      "name": "python3"
    },
    "language_info": {
      "name": "python"
    },
    "accelerator": "GPU"
  },
  "nbformat": 4,
  "nbformat_minor": 0
}