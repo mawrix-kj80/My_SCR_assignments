{
  "nbformat": 4,
  "nbformat_minor": 0,
  "metadata": {
    "colab": {
      "provenance": [],
      "collapsed_sections": [
        "RxUvIz-nPgY6"
      ],
      "gpuType": "T4"
    },
    "kernelspec": {
      "name": "python3",
      "display_name": "Python 3"
    },
    "language_info": {
      "name": "python"
    },
    "accelerator": "GPU"
  },
  "cells": [
    {
      "cell_type": "markdown",
      "source": [
        "# Question6_Regression"
      ],
      "metadata": {
        "id": "pOjdSjbkYp8T"
      }
    },
    {
      "cell_type": "code",
      "source": [
        "from google.colab import drive\n",
        "drive.mount('/content/drive')"
      ],
      "metadata": {
        "colab": {
          "base_uri": "https://localhost:8080/"
        },
        "id": "x1zWQfyA0ATY",
        "outputId": "a682692b-bde9-4878-9cbd-4327324541aa"
      },
      "execution_count": null,
      "outputs": [
        {
          "output_type": "stream",
          "name": "stdout",
          "text": [
            "Mounted at /content/drive\n"
          ]
        }
      ]
    },
    {
      "cell_type": "code",
      "source": [
        "import keras\n",
        "from keras.models import Sequential, load_model\n",
        "from keras.layers import Dense, Dropout\n",
        "import tensorflow as tf\n",
        "from matplotlib import pyplot as plt\n",
        "import pandas as pd\n",
        "import os\n",
        "from sklearn.preprocessing import LabelEncoder\n",
        "import sklearn as sk\n",
        "import numpy as np"
      ],
      "metadata": {
        "id": "tcCc0H3K-Hd2"
      },
      "execution_count": null,
      "outputs": []
    },
    {
      "cell_type": "code",
      "source": [
        "!pip install -q -U keras-tuner\n",
        "import keras_tuner as kt"
      ],
      "metadata": {
        "colab": {
          "base_uri": "https://localhost:8080/"
        },
        "id": "VpTccttdPkkZ",
        "outputId": "78ce8087-2307-4f44-991b-d421c2f94d6c"
      },
      "execution_count": null,
      "outputs": [
        {
          "output_type": "stream",
          "name": "stdout",
          "text": [
            "\u001b[?25l     \u001b[90m━━━━━━━━━━━━━━━━━━━━━━━━━━━━━━━━━━━━━━━━\u001b[0m \u001b[32m0.0/129.1 kB\u001b[0m \u001b[31m?\u001b[0m eta \u001b[36m-:--:--\u001b[0m\r\u001b[2K     \u001b[90m━━━━━━━━━━━━━━━━━━━━━━━━━━━━━━━━━━━━━━━━\u001b[0m \u001b[32m129.1/129.1 kB\u001b[0m \u001b[31m3.8 MB/s\u001b[0m eta \u001b[36m0:00:00\u001b[0m\n",
            "\u001b[?25h"
          ]
        }
      ]
    },
    {
      "cell_type": "code",
      "source": [
        "# Define the path to your data\n",
        "data_path = \"/content/drive/MyDrive/SEMG_DB1\""
      ],
      "metadata": {
        "id": "lDAWYdck-gi_"
      },
      "execution_count": null,
      "outputs": []
    },
    {
      "cell_type": "markdown",
      "source": [
        "## reading and preprocessing the data:\n",
        "there is two function which were used to skip throgh all text files in the two folders, read their data, extract them as dataframe, delete the NaN values and delete the last column in some files that is a wrong and noisy data. they also extract the labels (based on thelast column) for each line of data. so there is some differences from the classification part."
      ],
      "metadata": {
        "id": "X18R-2NAY9yQ"
      }
    },
    {
      "cell_type": "code",
      "source": [
        "def process_files(folder_path):\n",
        "    data = []\n",
        "    labels = []\n",
        "\n",
        "    # Loop through each file in the folder\n",
        "    for file_name in os.listdir(folder_path):\n",
        "        if file_name.endswith('.txt'):\n",
        "            file_path = os.path.join(folder_path, file_name)\n",
        "            # Read the text file using pandas\n",
        "            df = pd.read_csv(file_path, sep='\\s+', header=None, skiprows=8, engine='python')\n",
        "\n",
        "            # Drop the last column if it exists\n",
        "            if len(df.columns) > 5:  # Assuming the last column is the one you want to drop\n",
        "                df = df.iloc[:, :-1]\n",
        "\n",
        "            # Drop NaN values\n",
        "            df.dropna(inplace=True)\n",
        "\n",
        "            # Extract labels from the last column\n",
        "            labels.append(df.iloc[:, -1].values)\n",
        "\n",
        "            # Drop the last column to use the remaining columns as inputs\n",
        "            df.drop(df.columns[-1], axis=1, inplace=True)\n",
        "\n",
        "            # Convert dataframe to numpy array\n",
        "            file_data = df.values\n",
        "            # Append data to the list\n",
        "            data.extend(file_data)\n",
        "\n",
        "    return data, labels\n",
        "\n"
      ],
      "metadata": {
        "id": "De6_W3OuQS6F"
      },
      "execution_count": null,
      "outputs": []
    },
    {
      "cell_type": "code",
      "source": [
        "def load_data(data_path):\n",
        "    all_data = []\n",
        "    all_labels = []\n",
        "\n",
        "    # Loop through each folder in the data path\n",
        "    for folder_name in os.listdir(data_path):\n",
        "        folder_path = os.path.join(data_path, folder_name)\n",
        "        if os.path.isdir(folder_path):\n",
        "            # Process files in the folder\n",
        "            data, labels = process_files(folder_path)\n",
        "            all_data.extend(data)\n",
        "            all_labels.extend(labels)\n",
        "        print(len(data))\n",
        "\n",
        "    # Convert labels to numpy arrays\n",
        "    all_labels = np.concatenate(all_labels)\n",
        "\n",
        "    return np.array(all_data), all_labels"
      ],
      "metadata": {
        "id": "2IpKLJXH-qqS"
      },
      "execution_count": null,
      "outputs": []
    },
    {
      "cell_type": "markdown",
      "source": [
        "there is also a new function for windowing part."
      ],
      "metadata": {
        "id": "hyj8_em1ZkHz"
      }
    },
    {
      "cell_type": "code",
      "source": [
        "# Perform windowing\n",
        "def create_windows(data, labels, window_size):\n",
        "    X_windows = []\n",
        "    y_windows = []\n",
        "\n",
        "    for i in range(len(data) - window_size):\n",
        "        window_data = data[i:i+window_size]\n",
        "        window_label = labels[i+window_size]\n",
        "\n",
        "        X_windows.append(window_data)\n",
        "        y_windows.append(window_label)\n",
        "\n",
        "    return np.array(X_windows), np.array(y_windows)"
      ],
      "metadata": {
        "id": "usz7p9FPfNos"
      },
      "execution_count": null,
      "outputs": []
    },
    {
      "cell_type": "markdown",
      "source": [
        "the functions' outputs are in the form if numpy arrays. I print their shape to see if the reading and extracting process were done completely. I printed the number of data sample for each folder as well."
      ],
      "metadata": {
        "id": "pFtp6gSCZz7Z"
      }
    },
    {
      "cell_type": "code",
      "source": [
        "# Load data\n",
        "X, y = load_data(data_path)\n",
        "\n",
        "# Print shapes to verify\n",
        "print(\"X shape:\", X.shape)\n",
        "print(\"y shape:\", y.shape)"
      ],
      "metadata": {
        "id": "w57yhP8a-z_H",
        "colab": {
          "base_uri": "https://localhost:8080/"
        },
        "outputId": "3ecf253b-824e-4726-ec02-39829c351661"
      },
      "execution_count": null,
      "outputs": [
        {
          "output_type": "stream",
          "name": "stdout",
          "text": [
            "850491\n",
            "474497\n",
            "X shape: (1324988, 4)\n",
            "y shape: (1324988,)\n"
          ]
        }
      ]
    },
    {
      "cell_type": "markdown",
      "source": [
        "I also Print two lines of them to see their format."
      ],
      "metadata": {
        "id": "gT6lytmoZ_15"
      }
    },
    {
      "cell_type": "code",
      "source": [
        "print(X[0:2])\n",
        "print(y[0:2])"
      ],
      "metadata": {
        "colab": {
          "base_uri": "https://localhost:8080/"
        },
        "id": "MwFcjvYgAaJW",
        "outputId": "2a7934a3-3b5d-4229-b455-3b25cffad444"
      },
      "execution_count": null,
      "outputs": [
        {
          "output_type": "stream",
          "name": "stdout",
          "text": [
            "[[-0.0015 -0.0068  0.003  -0.0091]\n",
            " [-0.0053 -0.0458 -0.0008 -0.0098]]\n",
            "[-4.5 -4.6]\n"
          ]
        }
      ]
    },
    {
      "cell_type": "markdown",
      "source": [
        "this part do the windowing process."
      ],
      "metadata": {
        "id": "aZUCdCF0aN0e"
      }
    },
    {
      "cell_type": "code",
      "source": [
        "window_size = 2  # Define the size of the window\n",
        "\n",
        "X_windows, y_windows = create_windows(X, y, window_size)"
      ],
      "metadata": {
        "id": "eq1OZBg8fTmf"
      },
      "execution_count": null,
      "outputs": []
    },
    {
      "cell_type": "markdown",
      "source": [
        "I Print two lines of them to see their format nad the shape to see if windowing was done correctly."
      ],
      "metadata": {
        "id": "yMqSLZVMaCu-"
      }
    },
    {
      "cell_type": "code",
      "source": [
        "print(X_windows[0:2])\n",
        "print(X_windows.shape)\n",
        "print(y_windows[0:2])\n",
        "print(y_windows.shape)"
      ],
      "metadata": {
        "colab": {
          "base_uri": "https://localhost:8080/"
        },
        "id": "8hIKgAa9fv1P",
        "outputId": "860fd6a3-f387-4f2f-e15d-f067048a499e"
      },
      "execution_count": null,
      "outputs": [
        {
          "output_type": "stream",
          "name": "stdout",
          "text": [
            "[[[-0.0015 -0.0068  0.003  -0.0091]\n",
            "  [-0.0053 -0.0458 -0.0008 -0.0098]]\n",
            "\n",
            " [[-0.0053 -0.0458 -0.0008 -0.0098]\n",
            "  [-0.0068 -0.0398 -0.0008 -0.0068]]]\n",
            "(1324986, 2, 4)\n",
            "[-4.6 -4.5]\n",
            "(1324986,)\n"
          ]
        }
      ]
    },
    {
      "cell_type": "markdown",
      "source": [
        "I generate x_train and y_train variable again to shufflr the data before using them and splitting them as train and validation."
      ],
      "metadata": {
        "id": "92CDpZiGabDe"
      }
    },
    {
      "cell_type": "code",
      "source": [
        "x_train = X_windows\n",
        "x_train /= np.max(np.absolute(x_train))\n",
        "y_train = y_windows\n",
        "x_train, y_train = sk.utils.shuffle(x_train, y_train)\n",
        "print(x_train.shape, y_train.shape)"
      ],
      "metadata": {
        "colab": {
          "base_uri": "https://localhost:8080/"
        },
        "id": "99mi5IsgB4oE",
        "outputId": "925e8f15-d044-464a-b8e7-369c9a70dbe0"
      },
      "execution_count": null,
      "outputs": [
        {
          "output_type": "stream",
          "name": "stdout",
          "text": [
            "(1324986, 2, 4) (1324986,)\n"
          ]
        }
      ]
    },
    {
      "cell_type": "code",
      "source": [
        "batch_size = 2**12"
      ],
      "metadata": {
        "id": "KsyrYfqlumem"
      },
      "execution_count": null,
      "outputs": []
    },
    {
      "cell_type": "markdown",
      "source": [
        "## Regression"
      ],
      "metadata": {
        "id": "by8bwp2199cM"
      }
    },
    {
      "cell_type": "markdown",
      "source": [
        "### Random Search\n",
        "I choose random search because it takes lower time than grid search to run. although my random search space doesn't containing millions of combination, i decided to use random search."
      ],
      "metadata": {
        "id": "UTYYQlX7P-Jq"
      }
    },
    {
      "cell_type": "code",
      "source": [
        "epochs = 100\n",
        "\n",
        "def model_builder(hp):\n",
        "    model = Sequential()\n",
        "    # Tune the number of units in the first Dense layer\n",
        "    # Choose an optimal value between 32-256\n",
        "    hp_units1 = hp.Int('units', min_value=32, max_value=512, step=32)\n",
        "    hp_units2 = hp.Int('units', min_value=32, max_value=512, step=32)\n",
        "    hp_dropout = hp.Float('dropout', 0, 0.2, step=0.1)\n",
        "    model.add(Dense(units=hp_units1, activation='relu', input_shape=(window_size, x_train.shape[2])))\n",
        "    model.add(Dropout(hp_dropout))\n",
        "    model.add(Dense(units=hp_units2, activation='relu'))\n",
        "    model.add(Dropout(hp_dropout))\n",
        "    model.add(Dense(1, activation='linear'))\n",
        "    model.summary()\n",
        "    # Tune the learning rate for the optimizer\n",
        "    # Choose an optimal value from 0.01, 0.001, or 0.0001\n",
        "    hp_learning_rate = hp.Choice('learning_rate', values=[1e-2, 1e-3, 1e-4])\n",
        "    model.compile(loss='mean_squared_error',\n",
        "                  optimizer=tf.keras.optimizers.Adam(learning_rate=hp_learning_rate),\n",
        "                  metrics=['mean_absolute_error'])\n",
        "    return model\n",
        "\n",
        "tuner = kt.RandomSearch(\n",
        "    hypermodel=model_builder,\n",
        "    objective='val_mean_absolute_error',\n",
        "    max_trials=10,\n",
        "    max_retries_per_trial=1,\n",
        "    directory='/content/drive/MyDrive',\n",
        "    project_name='2nd_run'\n",
        ")\n",
        "\n",
        "tuner.search_space_summary()\n",
        "\n",
        "tuner.search(x_train, y_train,\n",
        "                    batch_size=batch_size,\n",
        "                    epochs=epochs,\n",
        "                    verbose=1,\n",
        "                    validation_split = 0.2)"
      ],
      "metadata": {
        "colab": {
          "base_uri": "https://localhost:8080/"
        },
        "id": "r9u3dcnO1w2d",
        "outputId": "20492658-897a-4743-c5b4-6e54cd317c58"
      },
      "execution_count": null,
      "outputs": [
        {
          "output_type": "stream",
          "name": "stdout",
          "text": [
            "Reloading Tuner from /content/drive/MyDrive/2nd_run/tuner0.json\n",
            "Search space summary\n",
            "Default search space size: 3\n",
            "units (Int)\n",
            "{'default': None, 'conditions': [], 'min_value': 32, 'max_value': 512, 'step': 32, 'sampling': 'linear'}\n",
            "dropout (Float)\n",
            "{'default': 0.0, 'conditions': [], 'min_value': 0.0, 'max_value': 0.2, 'step': 0.1, 'sampling': 'linear'}\n",
            "learning_rate (Choice)\n",
            "{'default': 0.01, 'conditions': [], 'values': [0.01, 0.001, 0.0001], 'ordered': True}\n"
          ]
        }
      ]
    },
    {
      "cell_type": "markdown",
      "source": [
        "in this part I extracted best hyperparameters and best model."
      ],
      "metadata": {
        "id": "nX3r91wxQ3K1"
      }
    },
    {
      "cell_type": "code",
      "source": [
        "# extracting and printing best combination of hyperparameters\n",
        "best_hyperparameters = tuner.get_best_hyperparameters(1)[0]\n",
        "print(best_hyperparameters.values)"
      ],
      "metadata": {
        "colab": {
          "base_uri": "https://localhost:8080/"
        },
        "id": "6SDgb5Sv5sl3",
        "outputId": "e4c1322c-941e-463d-c1ed-d6ebfe1c7a09"
      },
      "execution_count": null,
      "outputs": [
        {
          "output_type": "stream",
          "name": "stdout",
          "text": [
            "{'units': 128, 'dropout': 0.1, 'learning_rate': 0.0001}\n"
          ]
        }
      ]
    },
    {
      "cell_type": "code",
      "source": [
        "# Retrieve the best model\n",
        "best_model = tuner.get_best_models(num_models=1)[0]"
      ],
      "metadata": {
        "colab": {
          "base_uri": "https://localhost:8080/"
        },
        "id": "0AN-CYKLJ72T",
        "outputId": "8e4d6d4c-e14e-4e8e-948f-94ecccc11db5"
      },
      "execution_count": null,
      "outputs": [
        {
          "output_type": "stream",
          "name": "stdout",
          "text": [
            "Model: \"sequential\"\n",
            "_________________________________________________________________\n",
            " Layer (type)                Output Shape              Param #   \n",
            "=================================================================\n",
            " dense (Dense)               (None, 2, 128)            640       \n",
            "                                                                 \n",
            " dropout (Dropout)           (None, 2, 128)            0         \n",
            "                                                                 \n",
            " dense_1 (Dense)             (None, 2, 128)            16512     \n",
            "                                                                 \n",
            " dropout_1 (Dropout)         (None, 2, 128)            0         \n",
            "                                                                 \n",
            " dense_2 (Dense)             (None, 2, 1)              129       \n",
            "                                                                 \n",
            "=================================================================\n",
            "Total params: 17281 (67.50 KB)\n",
            "Trainable params: 17281 (67.50 KB)\n",
            "Non-trainable params: 0 (0.00 Byte)\n",
            "_________________________________________________________________\n"
          ]
        },
        {
          "output_type": "stream",
          "name": "stderr",
          "text": [
            "WARNING:tensorflow:Detecting that an object or model or tf.train.Checkpoint is being deleted with unrestored values. See the following logs for the specific values in question. To silence these warnings, use `status.expect_partial()`. See https://www.tensorflow.org/api_docs/python/tf/train/Checkpoint#restorefor details about the status object returned by the restore function.\n",
            "WARNING:tensorflow:Value in checkpoint could not be found in the restored object: (root).optimizer._variables.1\n",
            "WARNING:tensorflow:Value in checkpoint could not be found in the restored object: (root).optimizer._variables.2\n",
            "WARNING:tensorflow:Value in checkpoint could not be found in the restored object: (root).optimizer._variables.3\n",
            "WARNING:tensorflow:Value in checkpoint could not be found in the restored object: (root).optimizer._variables.4\n",
            "WARNING:tensorflow:Value in checkpoint could not be found in the restored object: (root).optimizer._variables.5\n",
            "WARNING:tensorflow:Value in checkpoint could not be found in the restored object: (root).optimizer._variables.6\n",
            "WARNING:tensorflow:Value in checkpoint could not be found in the restored object: (root).optimizer._variables.7\n",
            "WARNING:tensorflow:Value in checkpoint could not be found in the restored object: (root).optimizer._variables.8\n",
            "WARNING:tensorflow:Value in checkpoint could not be found in the restored object: (root).optimizer._variables.9\n",
            "WARNING:tensorflow:Value in checkpoint could not be found in the restored object: (root).optimizer._variables.10\n",
            "WARNING:tensorflow:Value in checkpoint could not be found in the restored object: (root).optimizer._variables.11\n",
            "WARNING:tensorflow:Value in checkpoint could not be found in the restored object: (root).optimizer._variables.12\n"
          ]
        }
      ]
    },
    {
      "cell_type": "code",
      "source": [
        "# printing the loss and MAE of the model on trainig data\n",
        "score = best_model.evaluate(x_train, y_train, verbose=0)\n",
        "print('Train loss:', score[0])\n",
        "print('Train MAE:', score[1])"
      ],
      "metadata": {
        "colab": {
          "base_uri": "https://localhost:8080/"
        },
        "id": "i8IHIV2iKFDt",
        "outputId": "73a3edd8-a575-4574-f6e2-efc6e3e8aa35"
      },
      "execution_count": null,
      "outputs": [
        {
          "output_type": "stream",
          "name": "stdout",
          "text": [
            "Train loss: 2113.33056640625\n",
            "Train MAE: 33.86187744140625\n"
          ]
        }
      ]
    },
    {
      "cell_type": "code",
      "source": [
        "best_model.save('model_HW1_6_b_2w_3.h5')"
      ],
      "metadata": {
        "id": "17zVxAUZC2eU"
      },
      "execution_count": null,
      "outputs": []
    },
    {
      "cell_type": "markdown",
      "source": [
        "### fitting another model with best parameters"
      ],
      "metadata": {
        "id": "RxUvIz-nPgY6"
      }
    },
    {
      "cell_type": "markdown",
      "source": [
        "we can also based on the best parameters, fit an model again and see the result."
      ],
      "metadata": {
        "id": "3uOeI5dOPWS2"
      }
    },
    {
      "cell_type": "code",
      "source": [
        "model = tuner.hypermodel.build(best_hyperparameters)\n",
        "history = model.fit(x_train, y_train,\n",
        "                    batch_size=batch_size,\n",
        "                    epochs=epochs,\n",
        "                    verbose=1,\n",
        "                    validation_split = 0.2)"
      ],
      "metadata": {
        "colab": {
          "base_uri": "https://localhost:8080/"
        },
        "id": "WVqWZEyt9paw",
        "outputId": "cb370221-6fa3-4ae1-edb5-dec6407cc9f1"
      },
      "execution_count": null,
      "outputs": [
        {
          "output_type": "stream",
          "name": "stdout",
          "text": [
            "Model: \"sequential_1\"\n",
            "_________________________________________________________________\n",
            " Layer (type)                Output Shape              Param #   \n",
            "=================================================================\n",
            " dense_3 (Dense)             (None, 2, 224)            1120      \n",
            "                                                                 \n",
            " dropout_2 (Dropout)         (None, 2, 224)            0         \n",
            "                                                                 \n",
            " dense_4 (Dense)             (None, 2, 224)            50400     \n",
            "                                                                 \n",
            " dropout_3 (Dropout)         (None, 2, 224)            0         \n",
            "                                                                 \n",
            " dense_5 (Dense)             (None, 2, 1)              225       \n",
            "                                                                 \n",
            "=================================================================\n",
            "Total params: 51745 (202.13 KB)\n",
            "Trainable params: 51745 (202.13 KB)\n",
            "Non-trainable params: 0 (0.00 Byte)\n",
            "_________________________________________________________________\n",
            "Epoch 1/20\n",
            "259/259 [==============================] - 5s 15ms/step - loss: 33.8711 - mean_absolute_error: 33.8711 - val_loss: 33.8386 - val_mean_absolute_error: 33.8386\n",
            "Epoch 2/20\n",
            "259/259 [==============================] - 4s 15ms/step - loss: 33.8138 - mean_absolute_error: 33.8138 - val_loss: 33.8349 - val_mean_absolute_error: 33.8349\n",
            "Epoch 3/20\n",
            "259/259 [==============================] - 4s 16ms/step - loss: 33.8153 - mean_absolute_error: 33.8153 - val_loss: 33.8400 - val_mean_absolute_error: 33.8400\n",
            "Epoch 4/20\n",
            "259/259 [==============================] - 4s 14ms/step - loss: 33.8132 - mean_absolute_error: 33.8132 - val_loss: 33.8367 - val_mean_absolute_error: 33.8367\n",
            "Epoch 5/20\n",
            "259/259 [==============================] - 4s 14ms/step - loss: 33.8143 - mean_absolute_error: 33.8143 - val_loss: 33.8337 - val_mean_absolute_error: 33.8337\n",
            "Epoch 6/20\n",
            "259/259 [==============================] - 4s 15ms/step - loss: 33.8158 - mean_absolute_error: 33.8158 - val_loss: 33.8391 - val_mean_absolute_error: 33.8391\n",
            "Epoch 7/20\n",
            "259/259 [==============================] - 3s 13ms/step - loss: 33.8179 - mean_absolute_error: 33.8179 - val_loss: 33.8345 - val_mean_absolute_error: 33.8345\n",
            "Epoch 8/20\n",
            "259/259 [==============================] - 4s 14ms/step - loss: 33.8124 - mean_absolute_error: 33.8124 - val_loss: 33.8351 - val_mean_absolute_error: 33.8351\n",
            "Epoch 9/20\n",
            "259/259 [==============================] - 4s 15ms/step - loss: 33.8122 - mean_absolute_error: 33.8122 - val_loss: 33.8393 - val_mean_absolute_error: 33.8393\n",
            "Epoch 10/20\n",
            "259/259 [==============================] - 4s 14ms/step - loss: 33.8135 - mean_absolute_error: 33.8135 - val_loss: 33.8337 - val_mean_absolute_error: 33.8337\n",
            "Epoch 11/20\n",
            "259/259 [==============================] - 3s 13ms/step - loss: 33.8129 - mean_absolute_error: 33.8129 - val_loss: 33.8363 - val_mean_absolute_error: 33.8363\n",
            "Epoch 12/20\n",
            "259/259 [==============================] - 4s 14ms/step - loss: 33.8123 - mean_absolute_error: 33.8123 - val_loss: 33.8342 - val_mean_absolute_error: 33.8342\n",
            "Epoch 13/20\n",
            "259/259 [==============================] - 4s 15ms/step - loss: 33.8118 - mean_absolute_error: 33.8118 - val_loss: 33.8338 - val_mean_absolute_error: 33.8338\n",
            "Epoch 14/20\n",
            "259/259 [==============================] - 3s 13ms/step - loss: 33.8116 - mean_absolute_error: 33.8116 - val_loss: 33.8344 - val_mean_absolute_error: 33.8344\n",
            "Epoch 15/20\n",
            "259/259 [==============================] - 4s 14ms/step - loss: 33.8105 - mean_absolute_error: 33.8105 - val_loss: 33.8345 - val_mean_absolute_error: 33.8345\n",
            "Epoch 16/20\n",
            "259/259 [==============================] - 4s 14ms/step - loss: 33.8110 - mean_absolute_error: 33.8110 - val_loss: 33.8377 - val_mean_absolute_error: 33.8377\n",
            "Epoch 17/20\n",
            "259/259 [==============================] - 4s 16ms/step - loss: 33.8124 - mean_absolute_error: 33.8124 - val_loss: 33.8342 - val_mean_absolute_error: 33.8342\n",
            "Epoch 18/20\n",
            "259/259 [==============================] - 5s 18ms/step - loss: 33.8105 - mean_absolute_error: 33.8105 - val_loss: 33.8338 - val_mean_absolute_error: 33.8338\n",
            "Epoch 19/20\n",
            "259/259 [==============================] - 5s 18ms/step - loss: 33.8118 - mean_absolute_error: 33.8118 - val_loss: 33.8362 - val_mean_absolute_error: 33.8362\n",
            "Epoch 20/20\n",
            "259/259 [==============================] - 5s 18ms/step - loss: 33.8112 - mean_absolute_error: 33.8112 - val_loss: 33.8339 - val_mean_absolute_error: 33.8339\n"
          ]
        }
      ]
    },
    {
      "cell_type": "code",
      "source": [
        "plt.figure()\n",
        "plt.subplot(2,1,1);\n",
        "plt.plot(range(1,epochs+1), history.history['loss'], 'b',\n",
        "         range(1,epochs+1), history.history['val_loss'],'r')\n",
        "plt.ylabel('loss'); plt.grid()\n",
        "plt.subplot(2,1,2);\n",
        "plt.plot(range(1,epochs+1), history.history['mean_absolute_error'], 'b',\n",
        "         range(1,epochs+1), history.history['val_mean_absolute_error'],'r')\n",
        "plt.ylabel('mean_absolute_error'); plt.grid(); plt.xlabel('epoch')\n",
        "plt.show()"
      ],
      "metadata": {
        "colab": {
          "base_uri": "https://localhost:8080/",
          "height": 449
        },
        "id": "c8NzdJviFCEw",
        "outputId": "277ea65a-89a4-434e-b59d-0a65fe54b400"
      },
      "execution_count": null,
      "outputs": [
        {
          "output_type": "display_data",
          "data": {
            "text/plain": [
              "<Figure size 640x480 with 2 Axes>"
            ],
            "image/png": "[encoded data removed]"
          },
          "metadata": {}
        }
      ]
    },
    {
      "cell_type": "code",
      "source": [
        "# printing the loss and MAE of the model on trainig data\n",
        "score = model.evaluate(x_train, y_train, verbose=0)\n",
        "print('Train loss:', score[0])\n",
        "print('Train MAE:', score[1])"
      ],
      "metadata": {
        "colab": {
          "base_uri": "https://localhost:8080/"
        },
        "id": "O_vz1a3P-O_h",
        "outputId": "839dca16-1884-468c-fed6-9f2e64c9553c"
      },
      "execution_count": null,
      "outputs": [
        {
          "output_type": "stream",
          "name": "stdout",
          "text": [
            "Train loss: 33.81504440307617\n",
            "Train accuracy: 33.81504440307617\n"
          ]
        }
      ]
    },
    {
      "cell_type": "markdown",
      "source": [
        "## loading best model"
      ],
      "metadata": {
        "id": "2zfaBeuKPvkQ"
      }
    },
    {
      "cell_type": "code",
      "source": [
        "# loading the best model\n",
        "model = load_model('model_HW1_6_b_2w_2.h5')\n",
        "# viewing the summary\n",
        "model.summary()\n",
        "# printing the loss and MAE of the model on trainig data\n",
        "score = model.evaluate(x_train, y_train, verbose=1)\n",
        "print('Train loss:', score[0])\n",
        "print('Train MAE:', score[1])"
      ],
      "metadata": {
        "colab": {
          "base_uri": "https://localhost:8080/"
        },
        "id": "g8hKtyfR-Ssp",
        "outputId": "18b56cf9-ff6f-4c73-f472-9d246b8b9868"
      },
      "execution_count": null,
      "outputs": [
        {
          "output_type": "stream",
          "name": "stdout",
          "text": [
            "Model: \"sequential\"\n",
            "_________________________________________________________________\n",
            " Layer (type)                Output Shape              Param #   \n",
            "=================================================================\n",
            " dense (Dense)               (None, 2, 128)            640       \n",
            "                                                                 \n",
            " dropout (Dropout)           (None, 2, 128)            0         \n",
            "                                                                 \n",
            " dense_1 (Dense)             (None, 2, 128)            16512     \n",
            "                                                                 \n",
            " dropout_1 (Dropout)         (None, 2, 128)            0         \n",
            "                                                                 \n",
            " dense_2 (Dense)             (None, 2, 1)              129       \n",
            "                                                                 \n",
            "=================================================================\n",
            "Total params: 17281 (67.50 KB)\n",
            "Trainable params: 17281 (67.50 KB)\n",
            "Non-trainable params: 0 (0.00 Byte)\n",
            "_________________________________________________________________\n",
            "41406/41406 [==============================] - 126s 3ms/step - loss: 2113.3306 - mean_absolute_error: 33.8619\n",
            "Train loss: 2113.33056640625\n",
            "Train MAE: 33.86187744140625\n"
          ]
        }
      ]
    },
    {
      "cell_type": "markdown",
      "source": [
        "https://medium.com/swlh/hyperparameter-tuning-in-keras-tensorflow-2-with-keras-tuner-randomsearch-hyperband-3e212647778f https://keras.io/api/keras_tuner/hyperparameters/#float-method https://medium.com/@viniciusqroz/using-keras-tuner-to-find-the-best-parameters-for-your-neural-network-model-2dc02e0a1203 https://keras.io/api/keras_tuner/tuners/random/ https://stackoverflow.com/questions/68938984/using-random-search-in-keras-tuner"
      ],
      "metadata": {
        "id": "rpnnrpYawuT1"
      }
    }
  ]
}